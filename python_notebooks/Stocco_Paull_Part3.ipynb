{
 "cells": [
  {
   "attachments": {},
   "cell_type": "markdown",
   "metadata": {},
   "source": [
    "# Final Part 3\n",
    "\n",
    "Group 13\n",
    "\n",
    "Stocco and Paull\n",
    "\n",
    "IS 445"
   ]
  },
  {
   "attachments": {},
   "cell_type": "markdown",
   "metadata": {},
   "source": [
    "WARNING: WHEN UPLOADING OR TRANSFERING THIS NOTEBOOK, PLEASE CLEAR ALL OUTPUTS. THE FILE SIZE GETS  46 times SMALLER"
   ]
  },
  {
   "cell_type": "code",
   "execution_count": null,
   "metadata": {},
   "outputs": [],
   "source": [
    "# possible imports\n",
    "import altair as alt\n",
    "import pandas as pd\n",
    "import numpy as np"
   ]
  },
  {
   "cell_type": "code",
   "execution_count": null,
   "metadata": {},
   "outputs": [],
   "source": [
    "# Load the dataset\n",
    "url = 'https://raw.githubusercontent.com/wadefagen/datasets/master/gpa/uiuc-gpa-dataset.csv'\n",
    "df = pd.read_csv(url)\n",
    "\n",
    "df[\"AverageGPA\"] = (df[\"A+\"]*4 + df[\"A\"]*4 + df[\"A-\"]*3.67 + df[\"B+\"]*3.33 + df[\"B\"]*3 + df[\"B-\"]*2.67 + df[\"C+\"]*2.33 + df[\"C\"]*2 \n",
    "                    + df[\"C-\"]*1.67 + df[\"D+\"]*1.33 + df[\"D\"]*1 + df[\"D-\"]*0.67 + df[\"F\"]*0)/(df[\"A+\"] + df[\"A\"] + df[\"A-\"] + df[\"B+\"] + df[\"B\"] + df[\"B-\"] + df[\"C+\"] + df[\"C\"] \n",
    "                    + df[\"C-\"] + df[\"D+\"] + df[\"D\"] + df[\"D-\"] + df[\"F\"])"
   ]
  },
  {
   "cell_type": "code",
   "execution_count": null,
   "metadata": {},
   "outputs": [],
   "source": [
    "df"
   ]
  },
  {
   "cell_type": "code",
   "execution_count": null,
   "metadata": {},
   "outputs": [],
   "source": [
    "# disable max rows\n",
    "alt.data_transformers.disable_max_rows()"
   ]
  },
  {
   "attachments": {},
   "cell_type": "markdown",
   "metadata": {},
   "source": [
    "## Main Viz"
   ]
  },
  {
   "cell_type": "code",
   "execution_count": null,
   "metadata": {},
   "outputs": [],
   "source": [
    "# groupby\n",
    "yeartermgroup = df.groupby([\"YearTerm\", \"Subject\"])[[\"AverageGPA\"]].mean().reset_index()\n",
    "yeartermgroup2 = df.groupby([\"YearTerm\", \"Subject\"])[[\"W\"]].max().reset_index()\n",
    "print(yeartermgroup.head())\n",
    "print(yeartermgroup2.head())"
   ]
  },
  {
   "cell_type": "code",
   "execution_count": null,
   "metadata": {},
   "outputs": [],
   "source": [
    "together = pd.merge(yeartermgroup, yeartermgroup2, how=\"outer\").rename(columns={\"W\":\"Max_Withdrawls\"})\n",
    "together"
   ]
  },
  {
   "cell_type": "code",
   "execution_count": null,
   "metadata": {},
   "outputs": [],
   "source": [
    "# drop down menu options\n",
    "subjects = list(df[\"Subject\"].unique())\n",
    "subjects"
   ]
  },
  {
   "cell_type": "code",
   "execution_count": null,
   "metadata": {},
   "outputs": [],
   "source": [
    "ACES = [\"ANSC\", \"AGCM\", \"ACES\", \"ACE\", \"ABE\", \"AGED\", \"ALEC\", \"TSM\", \"PLPA\", \"NUTR\", \"NRES\", \"LEAD\", \"HORT\", \"HDFS\", \"FSHN\", \"ENVS\", \"CPSC\"]\n",
    "AHS = [\"AHS\", \"SHS\", \"RST\", \"REHB\", \"KIN\", \"IHLT\", \"CHLH\"]\n",
    "BUS = [\"ACCY\", \"MBA\", \"FIN\", \"BADM\", \"BDI\", \"BTW\", \"BUS\"]\n",
    "CIMED = []\n",
    "EDUC = [\"EOL\", \"EPS\", \"SPED\", \"HRD\", \"ERAM\", \"EPSY\", \"EPOL\", \"EDUC\", \"CI\"]\n",
    "ENGR = [\"SE\", \"IE\", \"AE\", \"TE\", \"TAM\", \"PHYS\", \"NPRE\", \"MSE\", \"ME\", \"ENG\", \"ECE\", \"CS\", \"BIOE\", \"CEE\", \"CHBE\"]\n",
    "FAA = [\"ARTF\", \"ART\", \"UP\", \"THEA\", \"MUSC\", \"MUS\", \"LA\", \"FAA\", \"DANC\", \"ARCH\", \"ARTD\", \"ARTE\", \"ARTH\", \"ARTJ\", \"ARTS\"]\n",
    "GRAD = [\"PSM\"]\n",
    "IS = [\"IS\", \"GSD\", \"INFO\"]\n",
    "LAS = [\"ANTH\", \"AIS\", \"AFRO\", \"ESL\", \"PORT\", \"HNDI\", \"UKR\", \"SWAH\", \"SAME\", \"LAT\", \"RLST\", \"GRKM\", \"REES\", \"SLCL\", \"POL\", \"PSM\", \"JAPN\", \"YDSH\", \"JS\", \"SLAV\", \"KOR\", \"ITAL\", \"CHIN\", \"BIOP\", \"BCS\", \"AFST\", \"TRST\", \"STAT\", \"SPAN\", \"SOC\", \"SCAN\", \"RUSS\", \"RSOC\", \"RHET\", \"REL\", \"PSYC\", \"PS\", \"PHIL\", \"MUSE\", \"MCB\", \"MATH\", \"LLS\", \"LING\", \"LAST\", \"LAS\", \"IB\", \"HIST\", \"GWS\", \"GLBL\", \"GER\", \"GEOL\", \"GEOG\", \"FR\", \"EURO\", \"ESE\", \"ENSU\", \"ENGL\", \"EIL\", \"ECON\", \"EALC\", \"CWL\", \"CW\", \"CMN\", \"CLCV\", \"CHEM\", \"CHBE\", \"BIOC\", \"AAS\", \"ARAB\", \"ARTH\", \"ASRM\", \"ASTR\", \"ATMS\", \"BCOG\"]\n",
    "LAW = [\"LAW\"]\n",
    "LER = [\"LER\"]\n",
    "MDIA = [\"ADV\", \"CINE\", \"SBC\", \"MDIA\", \"MACS\", \"JOUR\"]\n",
    "SOCW = [\"PATH\", \"SOCW\"]\n",
    "VETMED = [\"CB\", \"VM\", \"VCM\"]"
   ]
  },
  {
   "cell_type": "code",
   "execution_count": null,
   "metadata": {},
   "outputs": [],
   "source": [
    "TOTAL = ACES + AHS + BUS + CIMED + EDUC + ENGR + FAA + GRAD + IS + LAS + LAW + LER + MDIA + SOCW + VETMED\n",
    "print(len(TOTAL))\n",
    "print(len(subjects))"
   ]
  },
  {
   "cell_type": "code",
   "execution_count": null,
   "metadata": {},
   "outputs": [],
   "source": [
    "MISC = list(set(subjects) - set(TOTAL))\n",
    "MISC"
   ]
  },
  {
   "cell_type": "code",
   "execution_count": null,
   "metadata": {},
   "outputs": [],
   "source": [
    "labeling = [\"ACES\", \"AHS\", \"BUS\", \"CIMED\", \"EDUC\", \"ENGR\", \"FAA\", \"GRAD\", \"IS\", \"LAS\", \"LAW\", \"LER\", \"MDIA\", \"SOCW\", \"VETMED\", \"MISC\"]"
   ]
  },
  {
   "cell_type": "code",
   "execution_count": null,
   "metadata": {},
   "outputs": [],
   "source": [
    "colleges = [ACES, AHS, BUS, CIMED, EDUC, ENGR, FAA, GRAD, IS, LAS, LAW, LER, MDIA, SOCW, VETMED, MISC]\n"
   ]
  },
  {
   "cell_type": "code",
   "execution_count": null,
   "metadata": {},
   "outputs": [],
   "source": [
    "# x axis ordering\n",
    "# unable to get the chart to be sorted this way\n",
    "YearTerm = ['2010-fa', '2010-sp', '2010-su', '2011-fa', '2011-sp', '2011-su', '2012-fa', '2012-sp', '2012-su', '2013-fa', '2013-sp', '2013-su', \n",
    "            '2014-fa', '2014-wi', '2014-sp', '2014-su', '2015-fa', '2015-wi', '2015-sp', '2015-su', '2016-fa', '2016-wi', '2016-sp', \n",
    "            '2016-su', '2017-fa', '2017-wi', '2017-sp', '2017-su', '2018-fa', '2018-wi', '2018-sp', '2018-su', '2019-fa', '2019-wi', '2019-sp', \n",
    "            '2019-su', '2020-fa', '2020-wi', '2020-sp', '2020-su', '2021-fa', '2021-wi', '2021-sp', '2021-su', '2022-sp', '2022-su']\n",
    "\n",
    "# input selection\n",
    "input_dropdown = alt.binding_select(options=[None] + colleges, name='Colleges ', labels=[\"All\"] + labeling)\n",
    "# single selection\n",
    "selection = alt.selection_single(fields= ['Subject'], bind=input_dropdown)\n",
    "single_nearest = alt.selection_single(fields=['Subject'], on='mouseover')\n",
    "\n",
    "#line chart\n",
    "linechart = alt.Chart(together).mark_line(point=True, strokeWidth=1).encode(\n",
    "    x= alt.X(\"YearTerm:O\", title=\"Year and Term\", axis=alt.Axis(labelAngle=-45)),\n",
    "    y= alt.Y(\"AverageGPA:Q\", title=\"Average GPA\"),\n",
    "    color= alt.condition(single_nearest, alt.Color(\"Subject:O\", legend=alt.Legend(orient=\"left\"), scale=alt.Scale(scheme=\"plasma\")), alt.value('lightgray')),\n",
    "    opacity = alt.condition(single_nearest, alt.value(1.0), alt.value(0.5)),\n",
    "    tooltip=['AverageGPA', \"Subject\", \"YearTerm\", 'Max_Withdrawls']\n",
    ").configure_point(\n",
    "    size=17.5\n",
    ").add_selection(\n",
    "    selection, single_nearest, alt.selection_interval(bind='scales')\n",
    ").transform_filter(\n",
    "    selection\n",
    ").properties(\n",
    "    width=800,\n",
    "    height=400,\n",
    "    title='Average GPA of Each Course by College in UIUC by Year and Term'\n",
    ")"
   ]
  },
  {
   "cell_type": "code",
   "execution_count": null,
   "metadata": {},
   "outputs": [],
   "source": [
    "linechart"
   ]
  },
  {
   "attachments": {},
   "cell_type": "markdown",
   "metadata": {},
   "source": [
    "Note: \"Grades.csv\" and \"raw_grade_data_summer2017_fall2020.xlsx\" has been directly edited to only include information of interest. This has been done to limit the Jupyter Notebook size."
   ]
  },
  {
   "attachments": {},
   "cell_type": "markdown",
   "metadata": {},
   "source": [
    "## Contextual Viz UMN"
   ]
  },
  {
   "attachments": {},
   "cell_type": "markdown",
   "metadata": {},
   "source": [
    "https://gophergrades.com/#search\n",
    "\n",
    "https://github.com/DannyG72/UMN-Grade-Dataset/blob/master/raw_grade_data_summer2017_fall2020.xlsx"
   ]
  },
  {
   "cell_type": "code",
   "execution_count": null,
   "metadata": {},
   "outputs": [],
   "source": [
    "UMNdf = pd.DataFrame(pd.read_excel(\"raw_grade_data_summer2017_fall2020.xlsx\"))\n",
    "UMNdf"
   ]
  },
  {
   "cell_type": "code",
   "execution_count": null,
   "metadata": {},
   "outputs": [],
   "source": [
    "UMNdf[\"AverageGPA\"] = UMNdf[\"CRSE_GRADE_OFF\"].map({\"A+\":4,\"A\":4,\"A-\":3.67,\"B+\":3.33,\"B\":3,\"B-\":2.67,\"C+\":2.33,\"C\":2,\"C-\":1.67,\"D+\":1.33,\"D\":1,\"D-\":0.67,\"F\":0})\n",
    "UMNdf.head()"
   ]
  },
  {
   "cell_type": "code",
   "execution_count": null,
   "metadata": {},
   "outputs": [],
   "source": [
    "TERM_DESCRgroup = UMNdf.groupby([\"TERM_DESCR\", \"SUBJECT\"])[[\"AverageGPA\"]].mean().reset_index()\n",
    "TERM_DESCRgroup"
   ]
  },
  {
   "cell_type": "code",
   "execution_count": null,
   "metadata": {},
   "outputs": [],
   "source": [
    "UMNsubjects = list(TERM_DESCRgroup[\"SUBJECT\"].unique())\n",
    "len(UMNsubjects)"
   ]
  },
  {
   "cell_type": "code",
   "execution_count": null,
   "metadata": {},
   "outputs": [],
   "source": [
    "# useful script I found: https://www.geeksforgeeks.org/break-list-chunks-size-n-python/\n",
    "\n",
    "def divide_chunks(l, n):\n",
    "    for i in range(0, len(l), n):\n",
    "        yield l[i:i + n]\n",
    "\n",
    "UMNsubjectsCHUNCKED = list(divide_chunks(UMNsubjects, 29))\n",
    "len(UMNsubjectsCHUNCKED)"
   ]
  },
  {
   "cell_type": "code",
   "execution_count": null,
   "metadata": {},
   "outputs": [],
   "source": [
    "UMNyearterm = list(TERM_DESCRgroup[\"TERM_DESCR\"].unique())\n",
    "UMNyearterm"
   ]
  },
  {
   "cell_type": "code",
   "execution_count": null,
   "metadata": {},
   "outputs": [],
   "source": [
    "UMNyearterm = ['Fall 2017', 'Sum 2017', 'Fall 2018', 'Spr 2018', \n",
    "               'Sum 2018','Fall 2019', 'Spr 2019', 'Sum 2019','Fall 2020', 'Spr 2020', 'Sum 2020']"
   ]
  },
  {
   "cell_type": "code",
   "execution_count": null,
   "metadata": {},
   "outputs": [],
   "source": [
    "UMNlabeling = [\"Chunk 1\", \"Chunk 2\", \"Chunk 3\", \"Chunk 4\", \"Chunk 5\", \n",
    "               \"Chunk 6\", \"Chunk 7\", \"Chunk 8\", \"Chunk 9\", \"Chunk 10\",]"
   ]
  },
  {
   "cell_type": "code",
   "execution_count": null,
   "metadata": {},
   "outputs": [],
   "source": [
    "# input selection\n",
    "input_dropdown = alt.binding_select(options=[None] + UMNsubjectsCHUNCKED, name='Chunks ', labels=[\"All\"] + UMNlabeling)\n",
    "# single selection\n",
    "selection = alt.selection_single(fields= ['SUBJECT'], bind=input_dropdown)\n",
    "single_nearest = alt.selection_single(fields=['SUBJECT'], on='mouseover')\n",
    "\n",
    "#line chart\n",
    "UMNlinechart = alt.Chart(TERM_DESCRgroup).mark_line(point=True, strokeWidth=1).encode(\n",
    "    x= alt.X(\"TERM_DESCR:O\", title=\"Year and Term\", axis=alt.Axis(labelAngle=-45)),\n",
    "    y= alt.Y(\"AverageGPA:Q\", title=\"Average GPA\"),\n",
    "    color= alt.condition(single_nearest, alt.Color(\"SUBJECT:O\", legend=alt.Legend(orient=\"left\"), scale=alt.Scale(scheme=\"viridis\")), alt.value('lightgray')),\n",
    "    opacity = alt.condition(single_nearest, alt.value(1.0), alt.value(0.5)),\n",
    "    tooltip=['AverageGPA', \"SUBJECT\", \"TERM_DESCR\"]\n",
    ").configure_point(\n",
    "    size=17.5\n",
    ").add_selection(\n",
    "    selection, single_nearest, alt.selection_interval(bind='scales')\n",
    ").transform_filter(\n",
    "    selection\n",
    ").properties(\n",
    "    width=800,\n",
    "    height=400,\n",
    "    title='Average GPA of Each Course Divided into Chunks in UMN by Year and Term'\n",
    ")"
   ]
  },
  {
   "cell_type": "code",
   "execution_count": null,
   "metadata": {},
   "outputs": [],
   "source": [
    "UMNlinechart"
   ]
  },
  {
   "attachments": {},
   "cell_type": "markdown",
   "metadata": {},
   "source": [
    "## Contextual Viz NED University"
   ]
  },
  {
   "attachments": {},
   "cell_type": "markdown",
   "metadata": {},
   "source": [
    "https://www.kaggle.com/datasets/ssshayan/grades-of-students"
   ]
  },
  {
   "cell_type": "code",
   "execution_count": null,
   "metadata": {},
   "outputs": [],
   "source": [
    "# NEDdf = pd.read_csv(\"Grades.csv\").dropna()\n",
    "# NEDdf.head()\n",
    "# for i in NEDdf.columns:\n",
    "#     print(i)\n",
    "#     print(NEDdf[i].unique())\n",
    "# NEDdf = NEDdf.transpose().reset_index().drop([0])\n",
    "# NEDdf.rename(columns={\"index\": \"Class\"},inplace=True)\n",
    "# NEDdf.head()"
   ]
  },
  {
   "attachments": {},
   "cell_type": "markdown",
   "metadata": {},
   "source": [
    "Instead of creating a new vizualization. We opted to use one that was already made by Ahmad Jalal Masood: https://www.kaggle.com/code/ahmadjalalmasood123/eda-on-grades-of-students"
   ]
  },
  {
   "attachments": {},
   "cell_type": "markdown",
   "metadata": {},
   "source": [
    "![Alt text](NEDCGPA.png)"
   ]
  },
  {
   "cell_type": "code",
   "execution_count": null,
   "metadata": {},
   "outputs": [],
   "source": [
    "#saving graphs to json\n",
    "linechart.save(\"UIUCgpaTimeLine.json\")\n",
    "UMNlinechart.save(\"UMNgpaTimeLine.json\")"
   ]
  }
 ],
 "metadata": {
  "kernelspec": {
   "display_name": "DataViz",
   "language": "python",
   "name": "python3"
  },
  "language_info": {
   "codemirror_mode": {
    "name": "ipython",
    "version": 3
   },
   "file_extension": ".py",
   "mimetype": "text/x-python",
   "name": "python",
   "nbconvert_exporter": "python",
   "pygments_lexer": "ipython3",
   "version": "3.7.12"
  },
  "orig_nbformat": 4
 },
 "nbformat": 4,
 "nbformat_minor": 2
}
